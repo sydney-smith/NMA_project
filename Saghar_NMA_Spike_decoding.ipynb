{
  "nbformat": 4,
  "nbformat_minor": 0,
  "metadata": {
    "colab": {
      "name": "Saghar_NMA_Spike_decoding.ipynb",
      "provenance": [],
      "collapsed_sections": [],
      "authorship_tag": "ABX9TyP7ib6F+q4BMukvM8alsrXs",
      "include_colab_link": true
    },
    "kernelspec": {
      "name": "python3",
      "display_name": "Python 3"
    },
    "language_info": {
      "name": "python"
    }
  },
  "cells": [
    {
      "cell_type": "markdown",
      "metadata": {
        "id": "view-in-github",
        "colab_type": "text"
      },
      "source": [
        "<a href=\"https://colab.research.google.com/github/sydney-smith/NMA_project/blob/main/Saghar_NMA_Spike_decoding.ipynb\" target=\"_parent\"><img src=\"https://colab.research.google.com/assets/colab-badge.svg\" alt=\"Open In Colab\"/></a>"
      ]
    },
    {
      "cell_type": "code",
      "metadata": {
        "cellView": "form",
        "id": "pq60AYzZQ-h3"
      },
      "source": [
        "#@title Data retrieval\n",
        "import os, requests\n",
        "\n",
        "fname = []\n",
        "for j in range(3):\n",
        "  fname.append('steinmetz_part%d.npz'%j)\n",
        "url = [\"https://osf.io/agvxh/download\"]\n",
        "url.append(\"https://osf.io/uv3mw/download\")\n",
        "url.append(\"https://osf.io/ehmw2/download\")\n",
        "\n",
        "for j in range(len(url)):\n",
        "  if not os.path.isfile(fname[j]):\n",
        "    try:\n",
        "      r = requests.get(url[j])\n",
        "    except requests.ConnectionError:\n",
        "      print(\"!!! Failed to download data !!!\")\n",
        "    else:\n",
        "      if r.status_code != requests.codes.ok:\n",
        "        print(\"!!! Failed to download data !!!\")\n",
        "      else:\n",
        "        with open(fname[j], \"wb\") as fid:\n",
        "          fid.write(r.content)"
      ],
      "execution_count": 1,
      "outputs": []
    },
    {
      "cell_type": "code",
      "metadata": {
        "id": "QrcC8TYiRMeB",
        "cellView": "form"
      },
      "source": [
        "#@title Import matplotlib and set defaults\n",
        "from matplotlib import rcParams \n",
        "from matplotlib import pyplot as plt\n",
        "\n",
        "rcParams['figure.figsize'] = [20, 4]\n",
        "rcParams['font.size'] =15\n",
        "rcParams['axes.spines.top'] = False\n",
        "rcParams['axes.spines.right'] = False\n",
        "rcParams['figure.autolayout'] = True"
      ],
      "execution_count": 2,
      "outputs": []
    },
    {
      "cell_type": "code",
      "metadata": {
        "cellView": "form",
        "id": "XKS5XJyTZ4CO"
      },
      "source": [
        "#@title Import other needed libraries\n",
        "\n",
        "import numpy as np\n",
        "import scipy as sc\n",
        "\n",
        "from scipy import stats"
      ],
      "execution_count": 3,
      "outputs": []
    },
    {
      "cell_type": "code",
      "metadata": {
        "id": "R5XEdFyURRSW"
      },
      "source": [
        "#Data loading\n",
        "\n",
        "alldat = np.array([])\n",
        "for j in range(len(fname)):\n",
        "  alldat = np.hstack((alldat, np.load('steinmetz_part%d.npz'%j, allow_pickle=True)['dat']))"
      ],
      "execution_count": 4,
      "outputs": []
    },
    {
      "cell_type": "code",
      "metadata": {
        "id": "DaCfUMb0Rbhs"
      },
      "source": [
        "# select just one of the recordings here. 11 is nice because it has some neurons in vis ctx. I will then loop on all sessions and do this\n",
        "dat = alldat[11]\n",
        "\n",
        "# Extract some variables \n",
        "datSP = dat['spks']\n",
        "vis_right = dat['contrast_right'] # 0 - low - high\n",
        "vis_left = dat['contrast_left'] # 0 - low - high\n",
        "response = dat['response'] # -1 - 0 - 1\n",
        "dt = dat['bin_size'] # binning at 10 ms\n",
        "brainArea = dat['brain_area']\n",
        "\n",
        "#Exclusions over trials\n",
        "# When both contrasts are 0\n",
        "OneNonZero = (vis_left != 0) | (vis_right != 0)\n",
        "# Animal does not respond despite non-zero contrast\n",
        "Responded = OneNonZero & (response != 0)\n",
        "# To do: I think I should exclude trials with very late responses too. Although, those might be the same as the ones I already excluded\n",
        "\n",
        "allSp = {}\n",
        "allSp['reg'] = []\n",
        "allSp['rate'] = []\n",
        "allSp['PSTH'] = []\n",
        "\n",
        "datSPIncl = datSP[:,Responded,:]\n",
        "restPeriodWindow = int(500/dt/1000) #ms to data point\n",
        "taskPeriodWindow = int(500/dt/1000) #ms to data point\n",
        "\n",
        "for neuron in range(datSPIncl.shape[0]):\n",
        "  #Is this neuron responsive? the first 500 ms after trial onset vs before it\n",
        "  #To do: I think I should use a time before the response. It can be fixed (200 ms) or between stimulus onset and this\n",
        "  ActRest = np.mean(datSPIncl[neuron,:,0:restPeriodWindow],axis = 1)\n",
        "  ActTask = np.mean(datSPIncl[neuron,:,restPeriodWindow:restPeriodWindow+taskPeriodWindow],axis = 1)\n",
        "  #To do: Definately should not use a t-test here. If spikes are poisson the variance is the mean. Therefore, we are not facing equal variance. Can do permuation. For now I let it be.\n",
        "  tTestRes = stats.ttest_ind(ActRest, ActTask) \n",
        "  if tTestRes.pvalue < 0.05: # I don't think this need bon-ferroni or any other multiple comparison correction. We might add some neurons that by chance we thought are task responsive. That should be ok\n",
        "    allSp['reg'].append(dat['brain_area'][neuron])\n",
        "    allSp['rate'].append(np.mean(ActTask)) \n",
        "    allSp['PSTH'].append(np.mean(datSPIncl[neuron,:,0:restPeriodWindow],axis = 0))\n",
        "    \n",
        "\n",
        "#np.unique(vis_right - vis_left) "
      ],
      "execution_count": 5,
      "outputs": []
    },
    {
      "cell_type": "code",
      "metadata": {
        "id": "aIH3TrEIEzcE"
      },
      "source": [
        "#Get out the data for primary visual cortex and make a design matrix. In next step I will loop over different areas \n",
        "\n",
        "allSp['reg'] == ''"
      ],
      "execution_count": null,
      "outputs": []
    },
    {
      "cell_type": "code",
      "metadata": {
        "id": "-JPI-c4ie14v",
        "colab": {
          "base_uri": "https://localhost:8080/",
          "height": 304
        },
        "outputId": "74662d7c-7dba-42b5-d6af-795453d21b08"
      },
      "source": [
        "trialsWithResponse = dat['reaction_time'][:,1] != 0\n",
        "infExcluded = dat['reaction_time'][trialsWithResponse,0]\n",
        "\n",
        "plt.hist(infExcluded)\n",
        "np.percentile(infExcluded,80)"
      ],
      "execution_count": null,
      "outputs": [
        {
          "output_type": "execute_result",
          "data": {
            "text/plain": [
              "320.0"
            ]
          },
          "metadata": {
            "tags": []
          },
          "execution_count": 19
        },
        {
          "output_type": "display_data",
          "data": {
            "image/png": "[encoded data removed]",
            "text/plain": [
              "<Figure size 1440x288 with 1 Axes>"
            ]
          },
          "metadata": {
            "tags": [],
            "needs_background": "light"
          }
        }
      ]
    },
    {
      "cell_type": "code",
      "metadata": {
        "id": "wy1THuq_e2ZF"
      },
      "source": [
        ""
      ],
      "execution_count": null,
      "outputs": []
    },
    {
      "cell_type": "code",
      "metadata": {
        "colab": {
          "base_uri": "https://localhost:8080/",
          "height": 208
        },
        "id": "c6BSpIUURr7F",
        "outputId": "3436d726-e9ec-4f6d-b98d-94f87927a506"
      },
      "source": [
        "#arrange data by brain region\n",
        "\n",
        "brain_groups = [[\"VISa\", \"VISam\", \"VISl\", \"VISp\", \"VISpm\", \"VISrl\"], # visual cortex\n",
        "                [\"CL\", \"LD\", \"LGd\", \"LH\", \"LP\", \"MD\", \"MG\", \"PO\", \"POL\", \"PT\", \"RT\", \"SPF\", \"TH\", \"VAL\", \"VPL\", \"VPM\"], # thalamus\n",
        "                [\"CA\", \"CA1\", \"CA2\", \"CA3\", \"DG\", \"SUB\", \"POST\"], # hippocampal\n",
        "                [\"ACA\", \"AUD\", \"COA\", \"DP\", \"ILA\", \"MOp\", \"MOs\", \"OLF\", \"ORB\", \"ORBm\", \"PIR\", \"PL\", \"SSp\", \"SSs\", \"RSP\",\"TT\"], # non-visual cortex\n",
        "                [\"APN\", \"IC\", \"MB\", \"MRN\", \"NB\", \"PAG\", \"RN\", \"SCs\", \"SCm\", \"SCig\", \"SCsg\", \"ZI\"], # midbrain\n",
        "                [\"ACB\", \"CP\", \"GPe\", \"LS\", \"LSc\", \"LSr\", \"MS\", \"OT\", \"SNr\", \"SI\"], # basal ganglia \n",
        "                [\"BLA\", \"BMA\", \"EP\", \"EPd\", \"MEA\"] # cortical subplate\n",
        "                ]\n",
        "\n",
        "# Assign each area an index\n",
        "area_to_index = dict(root=0)\n",
        "counter = 1\n",
        "for group in brain_groups:\n",
        "    for area in group:\n",
        "        area_to_index[area] = counter\n",
        "        counter += 1\n",
        "\n",
        "alldat_brain_area_spikes = np.empty([counter,0,214,250])\n",
        "\n",
        "for j, d in enumerate(alldat):\n",
        "    for area in np.unique(d['brain_area']):\n",
        "      i = area_to_index[area]\n",
        "      area_neurons = d['brain_area']==area\n",
        "      datSP = d['spks'][area_neurons]\n",
        "      alldat_brain_area_spikes[i,:,:,:] = np.stack()  \n"
      ],
      "execution_count": null,
      "outputs": [
        {
          "output_type": "error",
          "ename": "AttributeError",
          "evalue": "ignored",
          "traceback": [
            "\u001b[0;31m---------------------------------------------------------------------------\u001b[0m",
            "\u001b[0;31mAttributeError\u001b[0m                            Traceback (most recent call last)",
            "\u001b[0;32m<ipython-input-11-cca6726f87ee>\u001b[0m in \u001b[0;36m<module>\u001b[0;34m()\u001b[0m\n\u001b[1;32m     25\u001b[0m       \u001b[0marea_neurons\u001b[0m \u001b[0;34m=\u001b[0m \u001b[0md\u001b[0m\u001b[0;34m[\u001b[0m\u001b[0;34m'brain_area'\u001b[0m\u001b[0;34m]\u001b[0m\u001b[0;34m==\u001b[0m\u001b[0marea\u001b[0m\u001b[0;34m\u001b[0m\u001b[0;34m\u001b[0m\u001b[0m\n\u001b[1;32m     26\u001b[0m       \u001b[0mdatSP\u001b[0m \u001b[0;34m=\u001b[0m \u001b[0md\u001b[0m\u001b[0;34m[\u001b[0m\u001b[0;34m'spks'\u001b[0m\u001b[0;34m]\u001b[0m\u001b[0;34m[\u001b[0m\u001b[0marea_neurons\u001b[0m\u001b[0;34m]\u001b[0m\u001b[0;34m\u001b[0m\u001b[0;34m\u001b[0m\u001b[0m\n\u001b[0;32m---> 27\u001b[0;31m       \u001b[0malldat_brain_area_spikes\u001b[0m\u001b[0;34m[\u001b[0m\u001b[0mi\u001b[0m\u001b[0;34m,\u001b[0m\u001b[0;34m:\u001b[0m\u001b[0;34m,\u001b[0m\u001b[0;34m:\u001b[0m\u001b[0;34m,\u001b[0m\u001b[0;34m:\u001b[0m\u001b[0;34m]\u001b[0m\u001b[0;34m.\u001b[0m\u001b[0mappend\u001b[0m\u001b[0;34m(\u001b[0m\u001b[0mdataSP\u001b[0m\u001b[0;34m)\u001b[0m\u001b[0;34m\u001b[0m\u001b[0;34m\u001b[0m\u001b[0m\n\u001b[0m",
            "\u001b[0;31mAttributeError\u001b[0m: 'numpy.ndarray' object has no attribute 'append'"
          ]
        }
      ]
    }
  ]
}