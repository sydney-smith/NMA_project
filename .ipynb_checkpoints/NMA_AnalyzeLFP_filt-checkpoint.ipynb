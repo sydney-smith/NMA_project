{
 "cells": [
  {
   "cell_type": "markdown",
   "metadata": {
    "colab_type": "text",
    "id": "view-in-github"
   },
   "source": [
    "<a href=\"https://colab.research.google.com/github/sydney-smith/NMA_project/blob/main/NMA_AnalyzeLFP_filt.ipynb\" target=\"_parent\"><img src=\"https://colab.research.google.com/assets/colab-badge.svg\" alt=\"Open In Colab\"/></a>"
   ]
  },
  {
   "cell_type": "code",
   "execution_count": 52,
   "metadata": {
    "colab": {
     "base_uri": "https://localhost:8080/"
    },
    "id": "XtrTjccNx6JE",
    "outputId": "03ade3e8-55fc-48e1-98a8-a8af8b6fa1db"
   },
   "outputs": [
    {
     "name": "stdout",
     "output_type": "stream",
     "text": [
      "Collecting mne\n",
      "  Downloading mne-0.23.0-py3-none-any.whl (6.9 MB)\n",
      "\u001b[K     |████████████████████████████████| 6.9 MB 5.1 MB/s \n",
      "\u001b[?25hRequirement already satisfied: scipy>=1.1.0 in /usr/local/lib/python3.7/dist-packages (from mne) (1.4.1)\n",
      "Requirement already satisfied: numpy>=1.15.4 in /usr/local/lib/python3.7/dist-packages (from mne) (1.19.5)\n",
      "Installing collected packages: mne\n",
      "Successfully installed mne-0.23.0\n"
     ]
    }
   ],
   "source": [
    "#@title Install external analysis packages\n",
    "!pip install mne"
   ]
  },
  {
   "cell_type": "code",
   "execution_count": 53,
   "metadata": {
    "id": "fSRIVm-Z0V8U"
   },
   "outputs": [],
   "source": [
    "#@title Import analysis packages\n",
    "\n",
    "import numpy as np\n",
    "import scipy.signal as signal\n",
    "from mne.filter import filter_data"
   ]
  },
  {
   "cell_type": "code",
   "execution_count": 2,
   "metadata": {
    "cellView": "form",
    "id": "MBk_3PtL57Cl"
   },
   "outputs": [],
   "source": [
    "#@title Import matplotlib and set defaults\n",
    "from matplotlib import rcParams \n",
    "from matplotlib import pyplot as plt\n",
    "rcParams['figure.figsize'] = [20, 4]\n",
    "rcParams['font.size'] =15\n",
    "rcParams['axes.spines.top'] = False\n",
    "rcParams['axes.spines.right'] = False\n",
    "rcParams['figure.autolayout'] = True"
   ]
  },
  {
   "cell_type": "code",
   "execution_count": 3,
   "metadata": {
    "cellView": "form",
    "id": "B2L7sWrn6IaH"
   },
   "outputs": [],
   "source": [
    "#@title Data retrieval (LFP)\n",
    "import os, requests\n",
    "\n",
    "fname = ['steinmetz_st.npz']\n",
    "fname.append('steinmetz_wav.npz')\n",
    "fname.append('steinmetz_lfp.npz')\n",
    "\n",
    "url = [\"https://osf.io/4bjns/download\"]\n",
    "url.append(\"https://osf.io/ugm9v/download\")\n",
    "url.append(\"https://osf.io/kx3v9/download\")\n",
    "\n",
    "for j in range(len(url)):\n",
    "  if not os.path.isfile(fname[j]):\n",
    "    try:\n",
    "      r = requests.get(url[j])\n",
    "    except requests.ConnectionError:\n",
    "      print(\"!!! Failed to download data !!!\")\n",
    "    else:\n",
    "      if r.status_code != requests.codes.ok:\n",
    "        print(\"!!! Failed to download data !!!\")\n",
    "      else:\n",
    "        with open(fname[j], \"wb\") as fid:\n",
    "          fid.write(r.content)"
   ]
  },
  {
   "cell_type": "code",
   "execution_count": 4,
   "metadata": {
    "cellView": "form",
    "id": "kdjtE6lx7lFH"
   },
   "outputs": [],
   "source": [
    "#@title Data retrieval (behavior)\n",
    "import os, requests\n",
    "\n",
    "fname = []\n",
    "for j in range(3):\n",
    "  fname.append('steinmetz_part%d.npz'%j)\n",
    "url = [\"https://osf.io/agvxh/download\"]\n",
    "url.append(\"https://osf.io/uv3mw/download\")\n",
    "url.append(\"https://osf.io/ehmw2/download\")\n",
    "\n",
    "for j in range(len(url)):\n",
    "  if not os.path.isfile(fname[j]):\n",
    "    try:\n",
    "      r = requests.get(url[j])\n",
    "    except requests.ConnectionError:\n",
    "      print(\"!!! Failed to download data !!!\")\n",
    "    else:\n",
    "      if r.status_code != requests.codes.ok:\n",
    "        print(\"!!! Failed to download data !!!\")\n",
    "      else:\n",
    "        with open(fname[j], \"wb\") as fid:\n",
    "          fid.write(r.content)"
   ]
  },
  {
   "cell_type": "code",
   "execution_count": 5,
   "metadata": {
    "cellView": "form",
    "id": "DIGI9n026kch"
   },
   "outputs": [],
   "source": [
    "#@title Data Loading\n",
    "\n",
    "dat_LFP = np.load('steinmetz_lfp.npz', allow_pickle=True)['dat']\n",
    "\n",
    "\n",
    "alldat = np.array([])\n",
    "for j in range(len(fname)):\n",
    "  alldat = np.hstack((alldat, np.load('steinmetz_part%d.npz'%j, allow_pickle=True)['dat']))"
   ]
  },
  {
   "cell_type": "code",
   "execution_count": 6,
   "metadata": {
    "id": "03DySR-77345"
   },
   "outputs": [],
   "source": [
    "# groupings of brain regions\n",
    "regions = [\"vis ctx\", \"thal\", \"hipp\", \"other ctx\", \"midbrain\", \"basal ganglia\", \"cortical subplate\", \"other\"]\n",
    "brain_groups = [[\"VISa\", \"VISam\", \"VISl\", \"VISp\", \"VISpm\", \"VISrl\"], # visual cortex\n",
    "                [\"CL\", \"LD\", \"LGd\", \"LH\", \"LP\", \"MD\", \"MG\", \"PO\", \"POL\", \"PT\", \"RT\", \"SPF\", \"TH\", \"VAL\", \"VPL\", \"VPM\"], # thalamus\n",
    "                [\"CA\", \"CA1\", \"CA2\", \"CA3\", \"DG\", \"SUB\", \"POST\"], # hippocampal\n",
    "                [\"ACA\", \"AUD\", \"COA\", \"DP\", \"ILA\", \"MOp\", \"MOs\", \"OLF\", \"ORB\", \"ORBm\", \"PIR\", \"PL\", \"SSp\", \"SSs\", \"RSP\",\" TT\"], # non-visual cortex\n",
    "                [\"APN\", \"IC\", \"MB\", \"MRN\", \"NB\", \"PAG\", \"RN\", \"SCs\", \"SCm\", \"SCig\", \"SCsg\", \"ZI\"], # midbrain\n",
    "                [\"ACB\", \"CP\", \"GPe\", \"LS\", \"LSc\", \"LSr\", \"MS\", \"OT\", \"SNr\", \"SI\"], # basal ganglia \n",
    "                [\"BLA\", \"BMA\", \"EP\", \"EPd\", \"MEA\"] # cortical subplate\n",
    "                ]"
   ]
  },
  {
   "cell_type": "markdown",
   "metadata": {
    "id": "LXX3SN918sSf"
   },
   "source": [
    "1. Filter data in theta, beta & gamma bands\n",
    "2. Apply hilbert transforms to extract amplitude envelopes per trial"
   ]
  },
  {
   "cell_type": "code",
   "execution_count": 7,
   "metadata": {
    "colab": {
     "base_uri": "https://localhost:8080/"
    },
    "id": "kU2z9eaO75fj",
    "outputId": "1248b34f-04ca-4e1f-bc14-0653c8ec4810"
   },
   "outputs": [
    {
     "data": {
      "text/plain": [
       "(7, 214, 250)"
      ]
     },
     "execution_count": 7,
     "metadata": {
      "tags": []
     },
     "output_type": "execute_result"
    }
   ],
   "source": [
    "dat_LFP[0]['lfp'].shape"
   ]
  },
  {
   "cell_type": "code",
   "execution_count": null,
   "metadata": {
    "id": "W4R9MCcy-voc"
   },
   "outputs": [],
   "source": [
    "thetaFilt = []\n",
    "thetaEnv = []\n",
    "betaFilt = []\n",
    "betaEnv = []\n",
    "gammaFilt = []\n",
    "gammaEnv = []\n",
    "\n",
    "for i in range(0,39):\n",
    "  dat = dat_LFP[i]['lfp']\n",
    "\n",
    "  # theta\n",
    "  theta_filt = filter_data(dat, sfreq=100, l_freq=8.0, h_freq=13.0)\n",
    "  thetaFilt.append(theta_filt)\n",
    "  theta_env = signal.hilbert(theta_filt)\n",
    "  thetaEnv.append(theta_env)\n",
    "\n",
    "  # beta\n",
    "  beta_filt = filter_data(dat, sfreq=100, l_freq=13.0, h_freq=30.0)\n",
    "  betaFilt.append(beta_filt)\n",
    "  beta_env =  signal.hilbert(beta_filt)\n",
    "  betaEnv.append(beta_env)\n",
    "\n",
    "  #gamma\n",
    "  gamma_filt = filter_data(dat, sfreq=100, l_freq=30.0, h_freq=49.0) #had to be less than nyquist\n",
    "  gammaFilt.append(gamma_filt)\n",
    "  gamma_env = signal.hilbert(gamma_filt)\n",
    "  gammaEnv.append(gamma_env)\n",
    "\n",
    "thetaFilt = np.asarray(thetaFilt)\n",
    "thetaEnv = np.asarray(thetaEnv)\n",
    "betaFilt = np.asarray(betaFilt)\n",
    "betaEnv = np.asarray(betaEnv)\n",
    "gammaFilt = np.asarray(gammaFilt)\n",
    "gammaEnv = np.asarray(gammaFilt)"
   ]
  },
  {
   "cell_type": "markdown",
   "metadata": {
    "id": "aijWDjpowAXl"
   },
   "source": [
    "Each ndarray will contain 39 sessions\n",
    "\n",
    "Within each session, data is shape\n",
    "(# channels, # trials, # samples) \n",
    "\n",
    "The number of channels and trails vary by session but there are always 250 samples in each trial. Each sample represents the value of the band power or band envelope at 10ms bins (similar to spiking data)."
   ]
  },
  {
   "cell_type": "code",
   "execution_count": 67,
   "metadata": {
    "colab": {
     "base_uri": "https://localhost:8080/"
    },
    "id": "37Pdv6aCvXyW",
    "outputId": "074a572f-12e7-460a-81a5-f2364ab32f53"
   },
   "outputs": [
    {
     "name": "stdout",
     "output_type": "stream",
     "text": [
      "gamma envelope: (7, 214, 250) \n",
      "beta envelope:  (7, 214, 250) \n",
      "theta envelope: (7, 214, 250)\n"
     ]
    }
   ],
   "source": [
    "#check shapes match\n",
    "\n",
    "print('gamma envelope:', gammaEnv[0].shape, '\\n'\n",
    "      'beta envelope: ', betaEnv[0].shape, '\\n'\n",
    "      'theta envelope:', thetaEnv[0].shape)"
   ]
  },
  {
   "cell_type": "code",
   "execution_count": null,
   "metadata": {
    "id": "xUlMUNkwwkY_"
   },
   "outputs": [],
   "source": []
  }
 ],
 "metadata": {
  "colab": {
   "authorship_tag": "ABX9TyMb3k2SXSbKymckzBOfYL/S",
   "include_colab_link": true,
   "name": "NMA_AnalyzeLFP_filt.ipynb",
   "provenance": []
  },
  "kernelspec": {
   "display_name": "Python 3",
   "language": "python",
   "name": "python3"
  },
  "language_info": {
   "codemirror_mode": {
    "name": "ipython",
    "version": 3
   },
   "file_extension": ".py",
   "mimetype": "text/x-python",
   "name": "python",
   "nbconvert_exporter": "python",
   "pygments_lexer": "ipython3",
   "version": "3.9.1"
  }
 },
 "nbformat": 4,
 "nbformat_minor": 1
}
