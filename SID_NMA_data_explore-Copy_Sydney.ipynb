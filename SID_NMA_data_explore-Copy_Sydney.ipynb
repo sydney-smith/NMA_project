{
 "cells": [
  {
   "cell_type": "markdown",
   "metadata": {
    "colab_type": "text",
    "id": "view-in-github"
   },
   "source": [
    "<a href=\"https://colab.research.google.com/github/sydney-smith/NMA_project/blob/main/SYDNEY_NMA_data_explore.ipynb\" target=\"_parent\"><img src=\"https://colab.research.google.com/assets/colab-badge.svg\" alt=\"Open In Colab\"/></a>"
   ]
  },
  {
   "cell_type": "code",
   "execution_count": 2,
   "metadata": {
    "cellView": "form",
    "colab": {
     "base_uri": "https://localhost:8080/"
    },
    "id": "fJsjLDXhVTU1",
    "outputId": "7d2a8078-458e-426b-8d89-5b48a2b19c4d"
   },
   "outputs": [
    {
     "name": "stdout",
     "output_type": "stream",
     "text": [
      "Collecting neurodsp\n",
      "  Downloading neurodsp-2.1.0-py3-none-any.whl (88 kB)\n",
      "\u001b[K     |████████████████████████████████| 88 kB 3.5 MB/s eta 0:00:011\n",
      "\u001b[?25hRequirement already satisfied: scipy in /home/siddhartha/anaconda3/envs/Nifti_Drop/lib/python3.6/site-packages (from neurodsp) (1.2.1)\n",
      "Requirement already satisfied: numpy in /home/siddhartha/anaconda3/envs/Nifti_Drop/lib/python3.6/site-packages (from neurodsp) (1.17.4)\n",
      "Requirement already satisfied: matplotlib in /home/siddhartha/anaconda3/envs/Nifti_Drop/lib/python3.6/site-packages (from neurodsp) (2.2.4)\n",
      "Requirement already satisfied: pytz in /home/siddhartha/anaconda3/envs/Nifti_Drop/lib/python3.6/site-packages (from matplotlib->neurodsp) (2018.9)\n",
      "Requirement already satisfied: cycler>=0.10 in /home/siddhartha/anaconda3/envs/Nifti_Drop/lib/python3.6/site-packages (from matplotlib->neurodsp) (0.10.0)\n",
      "Requirement already satisfied: six>=1.10 in /home/siddhartha/anaconda3/envs/Nifti_Drop/lib/python3.6/site-packages (from matplotlib->neurodsp) (1.15.0)\n",
      "Requirement already satisfied: kiwisolver>=1.0.1 in /home/siddhartha/anaconda3/envs/Nifti_Drop/lib/python3.6/site-packages (from matplotlib->neurodsp) (1.0.1)\n",
      "Requirement already satisfied: pyparsing!=2.0.4,!=2.1.2,!=2.1.6,>=2.0.1 in /home/siddhartha/anaconda3/envs/Nifti_Drop/lib/python3.6/site-packages (from matplotlib->neurodsp) (2.3.1)\n",
      "Requirement already satisfied: python-dateutil>=2.1 in /home/siddhartha/anaconda3/envs/Nifti_Drop/lib/python3.6/site-packages (from matplotlib->neurodsp) (2.8.0)\n",
      "Requirement already satisfied: setuptools in /home/siddhartha/anaconda3/envs/Nifti_Drop/lib/python3.6/site-packages (from kiwisolver>=1.0.1->matplotlib->neurodsp) (46.1.3)\n",
      "Installing collected packages: neurodsp\n",
      "Successfully installed neurodsp-2.1.0\n",
      "\u001b[33mWARNING: You are using pip version 20.0.2; however, version 21.1.3 is available.\n",
      "You should consider upgrading via the '/home/siddhartha/anaconda3/envs/Nifti_Drop/bin/python -m pip install --upgrade pip' command.\u001b[0m\n"
     ]
    }
   ],
   "source": [
    "#@title Install external software packages\n",
    "!pip install neurodsp"
   ]
  },
  {
   "cell_type": "code",
   "execution_count": 3,
   "metadata": {
    "id": "bmtOzVowUyaI"
   },
   "outputs": [],
   "source": [
    "#@title import analysis packages\n",
    "import numpy as np\n",
    "import scipy as sp\n",
    "import matplotlib.pyplot as plt\n",
    "import seaborn as sns\n",
    "from neurodsp import spectral"
   ]
  },
  {
   "cell_type": "code",
   "execution_count": 4,
   "metadata": {
    "cellView": "form",
    "id": "DRjbaTLeVe6M"
   },
   "outputs": [],
   "source": [
    "#@title Import matplotlib and set defaults\n",
    "from matplotlib import rcParams \n",
    "from matplotlib import pyplot as plt\n",
    "rcParams['figure.figsize'] = [20, 4]\n",
    "rcParams['font.size'] =15\n",
    "rcParams['axes.spines.top'] = False\n",
    "rcParams['axes.spines.right'] = False\n",
    "rcParams['figure.autolayout'] = True"
   ]
  },
  {
   "cell_type": "code",
   "execution_count": 5,
   "metadata": {
    "cellView": "form",
    "id": "O5CDjGrdUqvy"
   },
   "outputs": [],
   "source": [
    "#@title Data retrieval\n",
    "\n",
    "import os, requests\n",
    "\n",
    "fname = ['steinmetz_st.npz']\n",
    "fname.append('steinmetz_wav.npz')\n",
    "fname.append('steinmetz_lfp.npz')\n",
    "\n",
    "url = [\"https://osf.io/4bjns/download\"]\n",
    "url.append(\"https://osf.io/ugm9v/download\")\n",
    "url.append(\"https://osf.io/kx3v9/download\")\n",
    "\n",
    "for j in range(len(url)):\n",
    "  if not os.path.isfile(fname[j]):\n",
    "    try:\n",
    "      r = requests.get(url[j])\n",
    "    except requests.ConnectionError:\n",
    "      print(\"!!! Failed to download data !!!\")\n",
    "    else:\n",
    "      if r.status_code != requests.codes.ok:\n",
    "        print(\"!!! Failed to download data !!!\")\n",
    "      else:\n",
    "        with open(fname[j], \"wb\") as fid:\n",
    "          fid.write(r.content)"
   ]
  },
  {
   "cell_type": "code",
   "execution_count": null,
   "metadata": {
    "cellView": "form",
    "colab": {
     "base_uri": "https://localhost:8080/"
    },
    "id": "j5P25-mXVYT7",
    "outputId": "a0df69ac-ca81-4e50-904c-b03b7f229c53"
   },
   "outputs": [],
   "source": [
    "#@title Data loading\n",
    "\n",
    "dat_LFP = np.load('steinmetz_lfp.npz', allow_pickle=True)['dat']\n",
    "dat_WAV = np.load('steinmetz_wav.npz', allow_pickle=True)['dat']\n",
    "dat_ST = np.load('steinmetz_st.npz', allow_pickle=True)['dat']\n",
    "\n",
    "\n",
    "# select just one of the recordings here. 11 is nice because it has some neurons in vis ctx. \n",
    "dat = dat_LFP[11]\n",
    "print(dat.keys())\n",
    "dat = dat_WAV[11]\n",
    "print(dat.keys())\n",
    "dat = dat_ST[11]\n",
    "print(dat.keys())"
   ]
  },
  {
   "cell_type": "code",
   "execution_count": null,
   "metadata": {
    "id": "R44h3ZokWYc2"
   },
   "outputs": [],
   "source": [
    "# groupings of brain regions\n",
    "regions = [\"vis ctx\", \"thal\", \"hipp\", \"other ctx\", \"midbrain\", \"basal ganglia\", \"cortical subplate\", \"other\"]\n",
    "brain_groups = [[\"VISa\", \"VISam\", \"VISl\", \"VISp\", \"VISpm\", \"VISrl\"], # visual cortex\n",
    "                [\"CL\", \"LD\", \"LGd\", \"LH\", \"LP\", \"MD\", \"MG\", \"PO\", \"POL\", \"PT\", \"RT\", \"SPF\", \"TH\", \"VAL\", \"VPL\", \"VPM\"], # thalamus\n",
    "                [\"CA\", \"CA1\", \"CA2\", \"CA3\", \"DG\", \"SUB\", \"POST\"], # hippocampal\n",
    "                [\"ACA\", \"AUD\", \"COA\", \"DP\", \"ILA\", \"MOp\", \"MOs\", \"OLF\", \"ORB\", \"ORBm\", \"PIR\", \"PL\", \"SSp\", \"SSs\", \"RSP\",\" TT\"], # non-visual cortex\n",
    "                [\"APN\", \"IC\", \"MB\", \"MRN\", \"NB\", \"PAG\", \"RN\", \"SCs\", \"SCm\", \"SCig\", \"SCsg\", \"ZI\"], # midbrain\n",
    "                [\"ACB\", \"CP\", \"GPe\", \"LS\", \"LSc\", \"LSr\", \"MS\", \"OT\", \"SNr\", \"SI\"], # basal ganglia \n",
    "                [\"BLA\", \"BMA\", \"EP\", \"EPd\", \"MEA\"] # cortical subplate\n",
    "                ]"
   ]
  },
  {
   "cell_type": "code",
   "execution_count": null,
   "metadata": {
    "id": "ZiZ23RN601tJ"
   },
   "outputs": [],
   "source": [
    "target_area = 'VISp'\n",
    "\n",
    "loc = dat_LFP[0]['brain_area_lfp'].index(target_area)"
   ]
  },
  {
   "cell_type": "code",
   "execution_count": null,
   "metadata": {
    "id": "9dZfCDV7EGRc"
   },
   "outputs": [],
   "source": [
    "dat_LFP[0]['lfp'].shape # 7 electrode contacts (each with a different region), 214 trials, 250 samples per electrode (2.5 second trial @ 100Hz) ?\n",
    "\n",
    "samples = dat_LFP[0]['lfp'].shape[2]\n",
    "sfreq = samples/2.5 # 100 Hz sampling rate (nyquist @ 50 Hz)\n",
    "shanks = dat_LFP[0]['lfp'].shape[0]\n",
    "trials = dat_LFP[0]['lfp'].shape[1]\n"
   ]
  },
  {
   "cell_type": "code",
   "execution_count": null,
   "metadata": {
    "colab": {
     "base_uri": "https://localhost:8080/",
     "height": 1000
    },
    "id": "u8D55KiXtz0W",
    "outputId": "c57e9317-8472-41fb-8bab-a33cce200467"
   },
   "outputs": [],
   "source": [
    "x = np.linspace(0,2.5,samples)\n",
    "dat = dat_LFP[0]['lfp'] # data from mouse 0 \n",
    "offset = 0\n",
    "\n",
    "plt.figure(figsize=[8,20])\n",
    "\n",
    "for i in range(1,trials):\n",
    "  plt.plot(x,dat[loc][i]-offset) # plot single trial from VISp (loc 6)\n",
    "  offset += 50\n",
    "plt.axvline(0.5, color='k')\n",
    "plt.xlabel('time')\n",
    "plt.ylabel('trial')\n",
    "plt.yticks([])\n",
    "plt.title('Mouse 0, VISp trials 0-214')\n",
    "plt.tight_layout()"
   ]
  },
  {
   "cell_type": "code",
   "execution_count": null,
   "metadata": {
    "colab": {
     "base_uri": "https://localhost:8080/",
     "height": 287
    },
    "id": "5JgtTKtQsCgw",
    "outputId": "1f83a0b6-1d99-4442-cce3-7106727767e6"
   },
   "outputs": [],
   "source": [
    "fig, ax = plt.subplots(1,4, sharey=True)\n",
    "\n",
    "for j in range(4):\n",
    "  freqs, spectrum = spectral.compute_spectrum_welch(dat[loc][j], fs=sfreq, avg_type='median',\n",
    "                                                    window='hann', nperseg=sfreq, noverlap=sfreq/8)\n",
    "  ax[j].plot(freqs, spectrum)\n",
    "  ax[j].set_yscale('log')\n",
    "  ax[j].set_title('VISp trial '+str(j))\n",
    "  ax[j].set_xlabel('frequency')\n",
    "  ax[j].set_ylabel('power') "
   ]
  },
  {
   "cell_type": "code",
   "execution_count": 8,
   "metadata": {
    "colab": {
     "base_uri": "https://localhost:8080/"
    },
    "id": "5_JeunSGF4Jr",
    "outputId": "08f4f4f7-76e3-44ac-a6dc-79bd23af9715"
   },
   "outputs": [
    {
     "data": {
      "text/plain": [
       "['ACA', 'LS', 'MOs', 'CA3', 'DG', 'SUB', 'VISp']"
      ]
     },
     "execution_count": 8,
     "metadata": {
      "tags": []
     },
     "output_type": "execute_result"
    }
   ],
   "source": [
    "#dat_LFP[0][1][\n",
    "dat_LFP[0]['brain_area_lfp']"
   ]
  },
  {
   "cell_type": "code",
   "execution_count": 15,
   "metadata": {
    "colab": {
     "base_uri": "https://localhost:8080/"
    },
    "id": "fX9hiPnmhQkl",
    "outputId": "11de9593-6b4a-4b13-ae11-20db80a814b2"
   },
   "outputs": [
    {
     "data": {
      "text/plain": [
       "(7, 214, 250)"
      ]
     },
     "execution_count": 15,
     "metadata": {
      "tags": []
     },
     "output_type": "execute_result"
    }
   ],
   "source": [
    "dat_LFP[0]['lfp'].shape"
   ]
  },
  {
   "cell_type": "code",
   "execution_count": null,
   "metadata": {
    "id": "w8aWxgVvhQ5N"
   },
   "outputs": [],
   "source": []
  },
  {
   "cell_type": "code",
   "execution_count": 9,
   "metadata": {
    "colab": {
     "base_uri": "https://localhost:8080/"
    },
    "id": "bkuB8V5ZF8T7",
    "outputId": "56494ae8-de70-4be9-93a8-57385fa38286"
   },
   "outputs": [
    {
     "data": {
      "text/plain": [
       "6"
      ]
     },
     "execution_count": 9,
     "metadata": {
      "tags": []
     },
     "output_type": "execute_result"
    }
   ],
   "source": [
    "dat_LFP[0]['brain_area_lfp'].index('VISp')"
   ]
  },
  {
   "cell_type": "code",
   "execution_count": 22,
   "metadata": {
    "colab": {
     "base_uri": "https://localhost:8080/",
     "height": 165
    },
    "id": "pveEXo2XHGe_",
    "outputId": "1b25a833-48c8-4135-ab6c-7c887c05eb78"
   },
   "outputs": [
    {
     "ename": "KeyError",
     "evalue": "ignored",
     "output_type": "error",
     "traceback": [
      "\u001b[0;31m---------------------------------------------------------------------------\u001b[0m",
      "\u001b[0;31mKeyError\u001b[0m                                  Traceback (most recent call last)",
      "\u001b[0;32m<ipython-input-22-4a84ce0cd93f>\u001b[0m in \u001b[0;36m<module>\u001b[0;34m()\u001b[0m\n\u001b[0;32m----> 1\u001b[0;31m \u001b[0mdat_LFP\u001b[0m\u001b[0;34m[\u001b[0m\u001b[0;36m0\u001b[0m\u001b[0;34m]\u001b[0m\u001b[0;34m[\u001b[0m\u001b[0;36m0\u001b[0m\u001b[0;34m]\u001b[0m\u001b[0;34m.\u001b[0m\u001b[0mshape\u001b[0m\u001b[0;34m\u001b[0m\u001b[0;34m\u001b[0m\u001b[0m\n\u001b[0m",
      "\u001b[0;31mKeyError\u001b[0m: 0"
     ]
    }
   ],
   "source": [
    "dat_LFP[0][].shape"
   ]
  },
  {
   "cell_type": "code",
   "execution_count": 1,
   "metadata": {
    "id": "T9YVePhjHbC6"
   },
   "outputs": [],
   "source": [
    "def tridisolve(d, e, b, overwrite_b=True):\n",
    "    \"\"\"Symmetric tridiagonal system solver, from Golub and Van Loan pg 157.\n",
    "\n",
    "    Note: Copied from NiTime\n",
    "\n",
    "    Parameters\n",
    "    ----------\n",
    "\n",
    "    d : ndarray\n",
    "      main diagonal stored in d[:]\n",
    "    e : ndarray\n",
    "      superdiagonal stored in e[:-1]\n",
    "    b : ndarray\n",
    "      RHS vector\n",
    "\n",
    "    Returns\n",
    "    -------\n",
    "\n",
    "    x : ndarray\n",
    "      Solution to Ax = b (if overwrite_b is False). Otherwise solution is\n",
    "      stored in previous RHS vector b\n",
    "\n",
    "    \"\"\"\n",
    "    N = len(b)\n",
    "    # work vectors\n",
    "    dw = d.copy()\n",
    "    ew = e.copy()\n",
    "    if overwrite_b:\n",
    "        x = b\n",
    "    else:\n",
    "        x = b.copy()\n",
    "    for k in range(1, N):\n",
    "        # e^(k-1) = e(k-1) / d(k-1)\n",
    "        # d(k) = d(k) - e^(k-1)e(k-1) / d(k-1)\n",
    "        t = ew[k - 1]\n",
    "        ew[k - 1] = t / dw[k - 1]\n",
    "        dw[k] = dw[k] - t * ew[k - 1]\n",
    "    for k in range(1, N):\n",
    "        x[k] = x[k] - ew[k - 1] * x[k - 1]\n",
    "    x[N - 1] = x[N - 1] / dw[N - 1]\n",
    "    for k in range(N - 2, -1, -1):\n",
    "        x[k] = x[k] / dw[k] - ew[k] * x[k + 1]\n",
    "\n",
    "    if not overwrite_b:\n",
    "        return x\n",
    "\n",
    "\n",
    "def tridi_inverse_iteration(d, e, w, x0=None, rtol=1e-8):\n",
    "    \"\"\"Perform an inverse iteration.\n",
    "\n",
    "    This will find the eigenvector corresponding to the given eigenvalue\n",
    "    in a symmetric tridiagonal system.\n",
    "\n",
    "    Note: Copied from NiTime\n",
    "\n",
    "    Parameters\n",
    "    ----------\n",
    "\n",
    "    d : ndarray\n",
    "      main diagonal of the tridiagonal system\n",
    "    e : ndarray\n",
    "      offdiagonal stored in e[:-1]\n",
    "    w : float\n",
    "      eigenvalue of the eigenvector\n",
    "    x0 : ndarray\n",
    "      initial point to start the iteration\n",
    "    rtol : float\n",
    "      tolerance for the norm of the difference of iterates\n",
    "\n",
    "    Returns\n",
    "    -------\n",
    "    e: ndarray\n",
    "      The converged eigenvector\n",
    "\n",
    "    \"\"\"\n",
    "    eig_diag = d - w\n",
    "    if x0 is None:\n",
    "        x0 = np.random.randn(len(d))\n",
    "    x_prev = np.zeros_like(x0)\n",
    "    norm_x = np.linalg.norm(x0)\n",
    "    # the eigenvector is unique up to sign change, so iterate\n",
    "    # until || |x^(n)| - |x^(n-1)| ||^2 < rtol\n",
    "    x0 /= norm_x\n",
    "    while np.linalg.norm(np.abs(x0) - np.abs(x_prev)) > rtol:\n",
    "        x_prev = x0.copy()\n",
    "        tridisolve(eig_diag, e, x0)\n",
    "        norm_x = np.linalg.norm(x0)\n",
    "        x0 /= norm_x\n",
    "    return x0\n",
    "\n",
    "\n",
    "def dpss_windows(N, half_nbw, Kmax, low_bias=True, interp_from=None,\n",
    "                 interp_kind='linear'):\n",
    "    \"\"\"Compute Discrete Prolate Spheroidal Sequences.\n",
    "\n",
    "    Will give of orders [0,Kmax-1] for a given frequency-spacing multiple\n",
    "    NW and sequence length N.\n",
    "\n",
    "    Note: Copied from NiTime\n",
    "\n",
    "    Parameters\n",
    "    ----------\n",
    "    N : int\n",
    "        Sequence length\n",
    "    half_nbw : float, unitless\n",
    "        Standardized half bandwidth corresponding to 2 * half_bw = BW*f0\n",
    "        = BW*N/dt but with dt taken as 1\n",
    "    Kmax : int\n",
    "        Number of DPSS windows to return is Kmax (orders 0 through Kmax-1)\n",
    "    low_bias : Bool\n",
    "        Keep only tapers with eigenvalues > 0.9\n",
    "    interp_from : int (optional)\n",
    "        The dpss can be calculated using interpolation from a set of dpss\n",
    "        with the same NW and Kmax, but shorter N. This is the length of this\n",
    "        shorter set of dpss windows.\n",
    "    interp_kind : str (optional)\n",
    "        This input variable is passed to scipy.interpolate.interp1d and\n",
    "        specifies the kind of interpolation as a string ('linear', 'nearest',\n",
    "        'zero', 'slinear', 'quadratic, 'cubic') or as an integer specifying the\n",
    "        order of the spline interpolator to use.\n",
    "\n",
    "\n",
    "    Returns\n",
    "    -------\n",
    "    v, e : tuple,\n",
    "        v is an array of DPSS windows shaped (Kmax, N)\n",
    "        e are the eigenvalues\n",
    "\n",
    "    Notes\n",
    "    -----\n",
    "    Tridiagonal form of DPSS calculation from:\n",
    "\n",
    "    Slepian, D. Prolate spheroidal wave functions, Fourier analysis, and\n",
    "    uncertainty V: The discrete case. Bell System Technical Journal,\n",
    "    Volume 57 (1978), 1371430\n",
    "    \"\"\"\n",
    "    from scipy import interpolate\n",
    "    Kmax = int(Kmax)\n",
    "    W = float(half_nbw) / N\n",
    "    nidx = np.arange(N, dtype='d')\n",
    "\n",
    "    # In this case, we create the dpss windows of the smaller size\n",
    "    # (interp_from) and then interpolate to the larger size (N)\n",
    "    if interp_from is not None:\n",
    "        if interp_from > N:\n",
    "            e_s = 'In dpss_windows, interp_from is: %s ' % interp_from\n",
    "            e_s += 'and N is: %s. ' % N\n",
    "            e_s += 'Please enter interp_from smaller than N.'\n",
    "            raise ValueError(e_s)\n",
    "        dpss = []\n",
    "        d, e = dpss_windows(interp_from, half_nbw, Kmax, low_bias=False)\n",
    "        for this_d in d:\n",
    "            x = np.arange(this_d.shape[-1])\n",
    "            I = interpolate.interp1d(x, this_d, kind=interp_kind)\n",
    "            d_temp = I(np.linspace(0, this_d.shape[-1] - 1, N, endpoint=False))\n",
    "\n",
    "            # Rescale:\n",
    "            d_temp = d_temp / np.sqrt(sum_squared(d_temp))\n",
    "\n",
    "            dpss.append(d_temp)\n",
    "\n",
    "        dpss = np.array(dpss)\n",
    "\n",
    "    else:\n",
    "        # here we want to set up an optimization problem to find a sequence\n",
    "        # whose energy is maximally concentrated within band [-W,W].\n",
    "        # Thus, the measure lambda(T,W) is the ratio between the energy within\n",
    "        # that band, and the total energy. This leads to the eigen-system\n",
    "        # (A - (l1)I)v = 0, where the eigenvector corresponding to the largest\n",
    "        # eigenvalue is the sequence with maximally concentrated energy. The\n",
    "        # collection of eigenvectors of this system are called Slepian\n",
    "        # sequences, or discrete prolate spheroidal sequences (DPSS). Only the\n",
    "        # first K, K = 2NW/dt orders of DPSS will exhibit good spectral\n",
    "        # concentration\n",
    "        # [see http://en.wikipedia.org/wiki/Spectral_concentration_problem]\n",
    "\n",
    "        # Here I set up an alternative symmetric tri-diagonal eigenvalue\n",
    "        # problem such that\n",
    "        # (B - (l2)I)v = 0, and v are our DPSS (but eigenvalues l2 != l1)\n",
    "        # the main diagonal = ([N-1-2*t]/2)**2 cos(2PIW), t=[0,1,2,...,N-1]\n",
    "        # and the first off-diagonal = t(N-t)/2, t=[1,2,...,N-1]\n",
    "        # [see Percival and Walden, 1993]\n",
    "        diagonal = ((N - 1 - 2 * nidx) / 2.) ** 2 * np.cos(2 * np.pi * W)\n",
    "        off_diag = np.zeros_like(nidx)\n",
    "        off_diag[:-1] = nidx[1:] * (N - nidx[1:]) / 2.\n",
    "        # put the diagonals in LAPACK \"packed\" storage\n",
    "        ab = np.zeros((2, N), 'd')\n",
    "        ab[1] = diagonal\n",
    "        ab[0, 1:] = off_diag[:-1]\n",
    "        # only calculate the highest Kmax eigenvalues\n",
    "        w = linalg.eigvals_banded(ab, select='i',\n",
    "                                  select_range=(N - Kmax, N - 1))\n",
    "        w = w[::-1]\n",
    "\n",
    "        # find the corresponding eigenvectors via inverse iteration\n",
    "        t = np.linspace(0, np.pi, N)\n",
    "        dpss = np.zeros((Kmax, N), 'd')\n",
    "        for k in range(Kmax):\n",
    "            dpss[k] = tridi_inverse_iteration(diagonal, off_diag, w[k],\n",
    "                                              x0=np.sin((k + 1) * t))\n",
    "\n",
    "    # By convention (Percival and Walden, 1993 pg 379)\n",
    "    # * symmetric tapers (k=0,2,4,...) should have a positive average.\n",
    "    # * antisymmetric tapers should begin with a positive lobe\n",
    "    fix_symmetric = (dpss[0::2].sum(axis=1) < 0)\n",
    "    for i, f in enumerate(fix_symmetric):\n",
    "        if f:\n",
    "            dpss[2 * i] *= -1\n",
    "    # rather than test the sign of one point, test the sign of the\n",
    "    # linear slope up to the first (largest) peak\n",
    "    pk = np.argmax(np.abs(dpss[1::2, :N // 2]), axis=1)\n",
    "    for i, p in enumerate(pk):\n",
    "        if np.sum(dpss[2 * i + 1, :p]) < 0:\n",
    "            dpss[2 * i + 1] *= -1\n",
    "\n",
    "    # Now find the eigenvalues of the original spectral concentration problem\n",
    "    # Use the autocorr sequence technique from Percival and Walden, 1993 pg 390\n",
    "\n",
    "    # compute autocorr using FFT (same as nitime.utils.autocorr(dpss) * N)\n",
    "    rxx_size = 2 * N - 1\n",
    "    n_fft = 2 ** int(np.ceil(np.log2(rxx_size)))\n",
    "    dpss_fft = fftpack.fft(dpss, n_fft)\n",
    "    dpss_rxx = np.real(fftpack.ifft(dpss_fft * dpss_fft.conj()))\n",
    "    dpss_rxx = dpss_rxx[:, :N]\n",
    "\n",
    "    r = 4 * W * np.sinc(2 * W * nidx)\n",
    "    r[0] = 2 * W\n",
    "    eigvals = np.dot(dpss_rxx, r)\n",
    "\n",
    "    if low_bias:\n",
    "        idx = (eigvals > 0.9)\n",
    "        if not idx.any():\n",
    "            warn('Could not properly use low_bias, keeping lowest-bias taper')\n",
    "            idx = [np.argmax(eigvals)]\n",
    "        dpss, eigvals = dpss[idx], eigvals[idx]\n",
    "    assert len(dpss) > 0  # should never happen\n",
    "    assert dpss.shape[1] == N  # old nitime bug\n",
    "    return dpss, eigvals"
   ]
  },
  {
   "cell_type": "code",
   "execution_count": 2,
   "metadata": {},
   "outputs": [],
   "source": [
    "def getGridIndices(lowerFrequency, upperFrequency, paddedNumDataPoints, samplingFrequency):\n",
    "\n",
    "  try:\n",
    "\n",
    "      frequencyResolution = float ( samplingFrequency ) / float ( paddedNumDataPoints )\n",
    "      \n",
    "      gridValues = np.arange ( 0, samplingFrequency , frequencyResolution )\n",
    "      \n",
    "      gridValues = gridValues[ :paddedNumDataPoints ]\n",
    "\n",
    "      gridIndices = [index for index, x in enumerate (gridValues) if x>= lowerFrequency and x<= upperFrequency ]\n",
    "\n",
    "      gridValues = [x for index, x in enumerate (gridValues) if x>= lowerFrequency and x<= upperFrequency ]\n",
    "\n",
    "  except:\n",
    "    traceback.print_exc(file=sys.stdout)\n",
    "\n",
    "  return gridValues , gridIndices\n"
   ]
  },
  {
   "cell_type": "code",
   "execution_count": 1,
   "metadata": {
    "scrolled": true
   },
   "outputs": [
    {
     "ename": "SyntaxError",
     "evalue": "invalid syntax (<ipython-input-1-a0d7c5390ad1>, line 37)",
     "output_type": "error",
     "traceback": [
      "\u001b[0;36m  File \u001b[0;32m\"<ipython-input-1-a0d7c5390ad1>\"\u001b[0;36m, line \u001b[0;32m37\u001b[0m\n\u001b[0;31m    numChannels =\u001b[0m\n\u001b[0m                  ^\u001b[0m\n\u001b[0;31mSyntaxError\u001b[0m\u001b[0;31m:\u001b[0m invalid syntax\n"
     ]
    }
   ],
   "source": [
    "def analyzeData(data, samplingFrequency=100, numChannels, selectedChannels):\n",
    "    try:\n",
    "\n",
    "#         data = data - data.mean(axis=1, keepdims=True)\n",
    "\n",
    "        beginWin = 0\n",
    "        endWin = 0\n",
    "\n",
    "        upperFrequency = 100\n",
    "        lowerFrequency = 0\n",
    "        timeBandWidth = 2\n",
    "        timeWindow = .5 # time window in seconds\n",
    "        STEP_SIZE = .25 # in seconds\n",
    "\n",
    "        numDataPoints =  timeWindow * samplingFrequency\n",
    "        print ( \" numDataPoints = \" + str(numDataPoints))\n",
    "        stepSize = STEP_SIZE * samplingFrequency\n",
    "        padding = pad = 0\n",
    "\n",
    "        paddedNumDataPoints = int ( pow ( 2, math.ceil ( np.log2 ( numDataPoints ) + pad) ) )\n",
    "        print ( \" paddedNumDataPoints = \" + str(paddedNumDataPoints))\n",
    "\n",
    "        numTapers = 2 * timeBandWidth -1\n",
    "        [tapers, eigenValues] = dpss_windows(int(numDataPoints), float(timeBandWidth), int(numTapers) )\n",
    "\n",
    "        #numTapers = len(tapers)\n",
    "        numTapers = 3\n",
    "\n",
    "        fpass = [lowerFrequency,upperFrequency]\n",
    "\n",
    "        gridValues, gridIndices = getGridIndices(fpass[0], fpass[1], paddedNumDataPoints, samplingFrequency)\n",
    "\n",
    "        dataMatrix = []\n",
    "\n",
    "        spectrumChannelSumData = [] \n",
    "\n",
    "        for channelIndex in range(numChannels):\n",
    "\n",
    "          spectrogramData = []\n",
    "        \n",
    "          channelData = data[loc][channelIndex]\n",
    "\n",
    "          if channelIndex not in selectedChannels:\n",
    "            continue\n",
    "\n",
    "          print (str(len(  channelData )))\n",
    "          numWindows = int ( ( len ( channelData ) - numDataPoints + 1) / ( stepSize  ) )\n",
    "          numWindows = math.floor ( float( len ( channelData ))/ float(numDataPoints) )\n",
    "\n",
    "          print (\" numWindows \" + str(numWindows))\n",
    "        \n",
    "          for windowNum in range ( numWindows ) :\n",
    "\n",
    "              beginWin = windowNum * numDataPoints\n",
    "              endWin = beginWin + numDataPoints\n",
    "\n",
    "              windowData = channelData [ beginWin : endWin]\n",
    "\n",
    "              if len(windowData) == 0:\n",
    "\n",
    "                break\n",
    "\n",
    "              spectrumChannelSumData = []\n",
    "              for taperIndex, taper in enumerate ( tapers ) :\n",
    "\n",
    "                taperData = [float(a)*float(b) for a,b in zip(windowData,taper)]\n",
    "\n",
    "                fftData = scipy.fftpack.fft(taperData,paddedNumDataPoints)\n",
    "\n",
    "                fftData = np.array (fftData)/float(eegFS)\n",
    "                fftData = fftData[gridIndices]\n",
    "\n",
    "                spectrumChannelData = np.array([abs(x*conj(x)) for x in fftData])\n",
    "\n",
    "                plt.figure(1, figsize = (8.5,11))\n",
    "                plt.title('Spectrogram')\n",
    "\n",
    "                spectrumChannelSumData.append( list(spectrumChannelData))\n",
    "\n",
    "              spectrumChannelAvgData = [float(sum(col))/len(col) for col in zip(*spectrumChannelSumData)] \n",
    "\n",
    "              spectrogramData.append(list(spectrumChannelAvgData))\n",
    "\n",
    "          spectrumPSD = [float(sum(col))/len(col) for col in zip(*spectrogramData)]\n",
    "          spectrumPSD = np.array(spectrumPSD)/100\n",
    "\n",
    "          plt.clf()\n",
    "\n",
    "          plt.figure(1, figsize = (8.5,11))\n",
    "          plt.imshow(np.array(log(spectrogramData)).transpose())\n",
    "\n",
    "          plt.gca().invert_yaxis()\n",
    "          plt.axis([0, 416, 0, 100])\n",
    "          plt.show()    \n",
    "          break\n",
    "    except:\n",
    "            traceback.print_exc(file=sys.stdout)\n",
    "    return"
   ]
  },
  {
   "cell_type": "code",
   "execution_count": null,
   "metadata": {},
   "outputs": [],
   "source": [
    "analyzeData(dat, sfreq,  214, [10,15])"
   ]
  }
 ],
 "metadata": {
  "colab": {
   "authorship_tag": "ABX9TyMwU3JJg2E78T7W8HCwAA1C",
   "include_colab_link": true,
   "name": "NMA_data_explore.ipynb",
   "provenance": []
  },
  "kernelspec": {
   "display_name": "Python 3",
   "language": "python",
   "name": "python3"
  },
  "language_info": {
   "codemirror_mode": {
    "name": "ipython",
    "version": 3
   },
   "file_extension": ".py",
   "mimetype": "text/x-python",
   "name": "python",
   "nbconvert_exporter": "python",
   "pygments_lexer": "ipython3",
   "version": "3.6.8"
  }
 },
 "nbformat": 4,
 "nbformat_minor": 1
}
